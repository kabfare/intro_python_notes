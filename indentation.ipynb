{
 "cells": [
  {
   "cell_type": "code",
   "execution_count": 1,
   "metadata": {},
   "outputs": [
    {
     "name": "stdout",
     "output_type": "stream",
     "text": [
      "<function five at 0x000001DBCA3D9300>\n"
     ]
    }
   ],
   "source": [
    "def five(x): #press tab to start a function\n",
    "    x=5\n",
    "    return x\n",
    "print(five) #unindented indicates a separate block of code"
   ]
  },
  {
   "cell_type": "code",
   "execution_count": null,
   "metadata": {},
   "outputs": [],
   "source": []
  }
 ],
 "metadata": {
  "kernelspec": {
   "display_name": "Python 3",
   "language": "python",
   "name": "python3"
  },
  "language_info": {
   "codemirror_mode": {
    "name": "ipython",
    "version": 3
   },
   "file_extension": ".py",
   "mimetype": "text/x-python",
   "name": "python",
   "nbconvert_exporter": "python",
   "pygments_lexer": "ipython3",
   "version": "3.11.1"
  },
  "orig_nbformat": 4,
  "vscode": {
   "interpreter": {
    "hash": "9fbf9af1c0f307412a0d9c19e1e81036f12aab192b721ed81cdfb28d21b14e2c"
   }
  }
 },
 "nbformat": 4,
 "nbformat_minor": 2
}
